{
 "cells": [
  {
   "cell_type": "code",
   "execution_count": 116,
   "id": "30ecc2fc-27ba-446c-b0e3-1fd7754e59bd",
   "metadata": {},
   "outputs": [],
   "source": [
    "import pandas as pd\n",
    "import numpy as np\n",
    "import matplotlib.pyplot as plt"
   ]
  },
  {
   "cell_type": "code",
   "execution_count": 117,
   "id": "b274950c-7c0c-47e1-a1a7-f0bb18efa0d2",
   "metadata": {},
   "outputs": [
    {
     "data": {
      "text/html": [
       "<div>\n",
       "<style scoped>\n",
       "    .dataframe tbody tr th:only-of-type {\n",
       "        vertical-align: middle;\n",
       "    }\n",
       "\n",
       "    .dataframe tbody tr th {\n",
       "        vertical-align: top;\n",
       "    }\n",
       "\n",
       "    .dataframe thead th {\n",
       "        text-align: right;\n",
       "    }\n",
       "</style>\n",
       "<table border=\"1\" class=\"dataframe\">\n",
       "  <thead>\n",
       "    <tr style=\"text-align: right;\">\n",
       "      <th></th>\n",
       "      <th>track_name</th>\n",
       "      <th>artist(s)_name</th>\n",
       "      <th>artist_count</th>\n",
       "      <th>released_year</th>\n",
       "      <th>released_month</th>\n",
       "      <th>released_day</th>\n",
       "      <th>in_spotify_playlists</th>\n",
       "      <th>in_spotify_charts</th>\n",
       "      <th>streams</th>\n",
       "      <th>in_apple_playlists</th>\n",
       "      <th>...</th>\n",
       "      <th>bpm</th>\n",
       "      <th>key</th>\n",
       "      <th>mode</th>\n",
       "      <th>danceability_%</th>\n",
       "      <th>valence_%</th>\n",
       "      <th>energy_%</th>\n",
       "      <th>acousticness_%</th>\n",
       "      <th>instrumentalness_%</th>\n",
       "      <th>liveness_%</th>\n",
       "      <th>speechiness_%</th>\n",
       "    </tr>\n",
       "  </thead>\n",
       "  <tbody>\n",
       "    <tr>\n",
       "      <th>0</th>\n",
       "      <td>Seven (feat. Latto) (Explicit Ver.)</td>\n",
       "      <td>Latto, Jung Kook</td>\n",
       "      <td>2</td>\n",
       "      <td>2023</td>\n",
       "      <td>7</td>\n",
       "      <td>14</td>\n",
       "      <td>553</td>\n",
       "      <td>147</td>\n",
       "      <td>141381703</td>\n",
       "      <td>43</td>\n",
       "      <td>...</td>\n",
       "      <td>125</td>\n",
       "      <td>B</td>\n",
       "      <td>Major</td>\n",
       "      <td>80</td>\n",
       "      <td>89</td>\n",
       "      <td>83</td>\n",
       "      <td>31</td>\n",
       "      <td>0</td>\n",
       "      <td>8</td>\n",
       "      <td>4</td>\n",
       "    </tr>\n",
       "    <tr>\n",
       "      <th>1</th>\n",
       "      <td>LALA</td>\n",
       "      <td>Myke Towers</td>\n",
       "      <td>1</td>\n",
       "      <td>2023</td>\n",
       "      <td>3</td>\n",
       "      <td>23</td>\n",
       "      <td>1474</td>\n",
       "      <td>48</td>\n",
       "      <td>133716286</td>\n",
       "      <td>48</td>\n",
       "      <td>...</td>\n",
       "      <td>92</td>\n",
       "      <td>C#</td>\n",
       "      <td>Major</td>\n",
       "      <td>71</td>\n",
       "      <td>61</td>\n",
       "      <td>74</td>\n",
       "      <td>7</td>\n",
       "      <td>0</td>\n",
       "      <td>10</td>\n",
       "      <td>4</td>\n",
       "    </tr>\n",
       "    <tr>\n",
       "      <th>2</th>\n",
       "      <td>vampire</td>\n",
       "      <td>Olivia Rodrigo</td>\n",
       "      <td>1</td>\n",
       "      <td>2023</td>\n",
       "      <td>6</td>\n",
       "      <td>30</td>\n",
       "      <td>1397</td>\n",
       "      <td>113</td>\n",
       "      <td>140003974</td>\n",
       "      <td>94</td>\n",
       "      <td>...</td>\n",
       "      <td>138</td>\n",
       "      <td>F</td>\n",
       "      <td>Major</td>\n",
       "      <td>51</td>\n",
       "      <td>32</td>\n",
       "      <td>53</td>\n",
       "      <td>17</td>\n",
       "      <td>0</td>\n",
       "      <td>31</td>\n",
       "      <td>6</td>\n",
       "    </tr>\n",
       "    <tr>\n",
       "      <th>3</th>\n",
       "      <td>Cruel Summer</td>\n",
       "      <td>Taylor Swift</td>\n",
       "      <td>1</td>\n",
       "      <td>2019</td>\n",
       "      <td>8</td>\n",
       "      <td>23</td>\n",
       "      <td>7858</td>\n",
       "      <td>100</td>\n",
       "      <td>800840817</td>\n",
       "      <td>116</td>\n",
       "      <td>...</td>\n",
       "      <td>170</td>\n",
       "      <td>A</td>\n",
       "      <td>Major</td>\n",
       "      <td>55</td>\n",
       "      <td>58</td>\n",
       "      <td>72</td>\n",
       "      <td>11</td>\n",
       "      <td>0</td>\n",
       "      <td>11</td>\n",
       "      <td>15</td>\n",
       "    </tr>\n",
       "    <tr>\n",
       "      <th>4</th>\n",
       "      <td>WHERE SHE GOES</td>\n",
       "      <td>Bad Bunny</td>\n",
       "      <td>1</td>\n",
       "      <td>2023</td>\n",
       "      <td>5</td>\n",
       "      <td>18</td>\n",
       "      <td>3133</td>\n",
       "      <td>50</td>\n",
       "      <td>303236322</td>\n",
       "      <td>84</td>\n",
       "      <td>...</td>\n",
       "      <td>144</td>\n",
       "      <td>A</td>\n",
       "      <td>Minor</td>\n",
       "      <td>65</td>\n",
       "      <td>23</td>\n",
       "      <td>80</td>\n",
       "      <td>14</td>\n",
       "      <td>63</td>\n",
       "      <td>11</td>\n",
       "      <td>6</td>\n",
       "    </tr>\n",
       "    <tr>\n",
       "      <th>...</th>\n",
       "      <td>...</td>\n",
       "      <td>...</td>\n",
       "      <td>...</td>\n",
       "      <td>...</td>\n",
       "      <td>...</td>\n",
       "      <td>...</td>\n",
       "      <td>...</td>\n",
       "      <td>...</td>\n",
       "      <td>...</td>\n",
       "      <td>...</td>\n",
       "      <td>...</td>\n",
       "      <td>...</td>\n",
       "      <td>...</td>\n",
       "      <td>...</td>\n",
       "      <td>...</td>\n",
       "      <td>...</td>\n",
       "      <td>...</td>\n",
       "      <td>...</td>\n",
       "      <td>...</td>\n",
       "      <td>...</td>\n",
       "      <td>...</td>\n",
       "    </tr>\n",
       "    <tr>\n",
       "      <th>948</th>\n",
       "      <td>My Mind &amp; Me</td>\n",
       "      <td>Selena Gomez</td>\n",
       "      <td>1</td>\n",
       "      <td>2022</td>\n",
       "      <td>11</td>\n",
       "      <td>3</td>\n",
       "      <td>953</td>\n",
       "      <td>0</td>\n",
       "      <td>91473363</td>\n",
       "      <td>61</td>\n",
       "      <td>...</td>\n",
       "      <td>144</td>\n",
       "      <td>A</td>\n",
       "      <td>Major</td>\n",
       "      <td>60</td>\n",
       "      <td>24</td>\n",
       "      <td>39</td>\n",
       "      <td>57</td>\n",
       "      <td>0</td>\n",
       "      <td>8</td>\n",
       "      <td>3</td>\n",
       "    </tr>\n",
       "    <tr>\n",
       "      <th>949</th>\n",
       "      <td>Bigger Than The Whole Sky</td>\n",
       "      <td>Taylor Swift</td>\n",
       "      <td>1</td>\n",
       "      <td>2022</td>\n",
       "      <td>10</td>\n",
       "      <td>21</td>\n",
       "      <td>1180</td>\n",
       "      <td>0</td>\n",
       "      <td>121871870</td>\n",
       "      <td>4</td>\n",
       "      <td>...</td>\n",
       "      <td>166</td>\n",
       "      <td>F#</td>\n",
       "      <td>Major</td>\n",
       "      <td>42</td>\n",
       "      <td>7</td>\n",
       "      <td>24</td>\n",
       "      <td>83</td>\n",
       "      <td>1</td>\n",
       "      <td>12</td>\n",
       "      <td>6</td>\n",
       "    </tr>\n",
       "    <tr>\n",
       "      <th>950</th>\n",
       "      <td>A Veces (feat. Feid)</td>\n",
       "      <td>Feid, Paulo Londra</td>\n",
       "      <td>2</td>\n",
       "      <td>2022</td>\n",
       "      <td>11</td>\n",
       "      <td>3</td>\n",
       "      <td>573</td>\n",
       "      <td>0</td>\n",
       "      <td>73513683</td>\n",
       "      <td>2</td>\n",
       "      <td>...</td>\n",
       "      <td>92</td>\n",
       "      <td>C#</td>\n",
       "      <td>Major</td>\n",
       "      <td>80</td>\n",
       "      <td>81</td>\n",
       "      <td>67</td>\n",
       "      <td>4</td>\n",
       "      <td>0</td>\n",
       "      <td>8</td>\n",
       "      <td>6</td>\n",
       "    </tr>\n",
       "    <tr>\n",
       "      <th>951</th>\n",
       "      <td>En La De Ella</td>\n",
       "      <td>Feid, Sech, Jhayco</td>\n",
       "      <td>3</td>\n",
       "      <td>2022</td>\n",
       "      <td>10</td>\n",
       "      <td>20</td>\n",
       "      <td>1320</td>\n",
       "      <td>0</td>\n",
       "      <td>133895612</td>\n",
       "      <td>29</td>\n",
       "      <td>...</td>\n",
       "      <td>97</td>\n",
       "      <td>C#</td>\n",
       "      <td>Major</td>\n",
       "      <td>82</td>\n",
       "      <td>67</td>\n",
       "      <td>77</td>\n",
       "      <td>8</td>\n",
       "      <td>0</td>\n",
       "      <td>12</td>\n",
       "      <td>5</td>\n",
       "    </tr>\n",
       "    <tr>\n",
       "      <th>952</th>\n",
       "      <td>Alone</td>\n",
       "      <td>Burna Boy</td>\n",
       "      <td>1</td>\n",
       "      <td>2022</td>\n",
       "      <td>11</td>\n",
       "      <td>4</td>\n",
       "      <td>782</td>\n",
       "      <td>2</td>\n",
       "      <td>96007391</td>\n",
       "      <td>27</td>\n",
       "      <td>...</td>\n",
       "      <td>90</td>\n",
       "      <td>E</td>\n",
       "      <td>Minor</td>\n",
       "      <td>61</td>\n",
       "      <td>32</td>\n",
       "      <td>67</td>\n",
       "      <td>15</td>\n",
       "      <td>0</td>\n",
       "      <td>11</td>\n",
       "      <td>5</td>\n",
       "    </tr>\n",
       "  </tbody>\n",
       "</table>\n",
       "<p>953 rows × 24 columns</p>\n",
       "</div>"
      ],
      "text/plain": [
       "                              track_name      artist(s)_name  artist_count  \\\n",
       "0    Seven (feat. Latto) (Explicit Ver.)    Latto, Jung Kook             2   \n",
       "1                                   LALA         Myke Towers             1   \n",
       "2                                vampire      Olivia Rodrigo             1   \n",
       "3                           Cruel Summer        Taylor Swift             1   \n",
       "4                         WHERE SHE GOES           Bad Bunny             1   \n",
       "..                                   ...                 ...           ...   \n",
       "948                         My Mind & Me        Selena Gomez             1   \n",
       "949            Bigger Than The Whole Sky        Taylor Swift             1   \n",
       "950                 A Veces (feat. Feid)  Feid, Paulo Londra             2   \n",
       "951                        En La De Ella  Feid, Sech, Jhayco             3   \n",
       "952                                Alone           Burna Boy             1   \n",
       "\n",
       "     released_year  released_month  released_day  in_spotify_playlists  \\\n",
       "0             2023               7            14                   553   \n",
       "1             2023               3            23                  1474   \n",
       "2             2023               6            30                  1397   \n",
       "3             2019               8            23                  7858   \n",
       "4             2023               5            18                  3133   \n",
       "..             ...             ...           ...                   ...   \n",
       "948           2022              11             3                   953   \n",
       "949           2022              10            21                  1180   \n",
       "950           2022              11             3                   573   \n",
       "951           2022              10            20                  1320   \n",
       "952           2022              11             4                   782   \n",
       "\n",
       "     in_spotify_charts    streams  in_apple_playlists  ...  bpm key   mode  \\\n",
       "0                  147  141381703                  43  ...  125   B  Major   \n",
       "1                   48  133716286                  48  ...   92  C#  Major   \n",
       "2                  113  140003974                  94  ...  138   F  Major   \n",
       "3                  100  800840817                 116  ...  170   A  Major   \n",
       "4                   50  303236322                  84  ...  144   A  Minor   \n",
       "..                 ...        ...                 ...  ...  ...  ..    ...   \n",
       "948                  0   91473363                  61  ...  144   A  Major   \n",
       "949                  0  121871870                   4  ...  166  F#  Major   \n",
       "950                  0   73513683                   2  ...   92  C#  Major   \n",
       "951                  0  133895612                  29  ...   97  C#  Major   \n",
       "952                  2   96007391                  27  ...   90   E  Minor   \n",
       "\n",
       "    danceability_%  valence_% energy_% acousticness_%  instrumentalness_%  \\\n",
       "0               80         89       83             31                   0   \n",
       "1               71         61       74              7                   0   \n",
       "2               51         32       53             17                   0   \n",
       "3               55         58       72             11                   0   \n",
       "4               65         23       80             14                  63   \n",
       "..             ...        ...      ...            ...                 ...   \n",
       "948             60         24       39             57                   0   \n",
       "949             42          7       24             83                   1   \n",
       "950             80         81       67              4                   0   \n",
       "951             82         67       77              8                   0   \n",
       "952             61         32       67             15                   0   \n",
       "\n",
       "     liveness_%  speechiness_%  \n",
       "0             8              4  \n",
       "1            10              4  \n",
       "2            31              6  \n",
       "3            11             15  \n",
       "4            11              6  \n",
       "..          ...            ...  \n",
       "948           8              3  \n",
       "949          12              6  \n",
       "950           8              6  \n",
       "951          12              5  \n",
       "952          11              5  \n",
       "\n",
       "[953 rows x 24 columns]"
      ]
     },
     "execution_count": 117,
     "metadata": {},
     "output_type": "execute_result"
    }
   ],
   "source": [
    "df = pd.read_csv(r\"C:\\DATA\\Popular_Spotify_Songs.csv\", encoding='latin1')\n",
    "df"
   ]
  },
  {
   "cell_type": "code",
   "execution_count": 118,
   "id": "e0e07035-8a89-407b-966b-06906e9bcd73",
   "metadata": {},
   "outputs": [
    {
     "name": "stdout",
     "output_type": "stream",
     "text": [
      "track_name               0\n",
      "artist(s)_name           0\n",
      "artist_count             0\n",
      "released_year            0\n",
      "released_month           0\n",
      "released_day             0\n",
      "in_spotify_playlists     0\n",
      "in_spotify_charts        0\n",
      "streams                  0\n",
      "in_apple_playlists       0\n",
      "in_apple_charts          0\n",
      "in_deezer_playlists      0\n",
      "in_deezer_charts         0\n",
      "in_shazam_charts        50\n",
      "bpm                      0\n",
      "key                     95\n",
      "mode                     0\n",
      "danceability_%           0\n",
      "valence_%                0\n",
      "energy_%                 0\n",
      "acousticness_%           0\n",
      "instrumentalness_%       0\n",
      "liveness_%               0\n",
      "speechiness_%            0\n",
      "dtype: int64\n"
     ]
    }
   ],
   "source": [
    " # Check for missing values\n",
    "print(df.isna().sum())"
   ]
  },
  {
   "cell_type": "code",
   "execution_count": 119,
   "id": "7e8bd97c-6e04-4ba9-b371-0899777813d0",
   "metadata": {},
   "outputs": [],
   "source": [
    "# Remove duplicate rows\n",
    "df.drop_duplicates(inplace=True)"
   ]
  },
  {
   "cell_type": "code",
   "execution_count": 120,
   "id": "ade90bbc-4a2f-4127-bb44-5fa3a254970a",
   "metadata": {},
   "outputs": [
    {
     "data": {
      "text/plain": [
       "track_name              943\n",
       "artist(s)_name          645\n",
       "artist_count              8\n",
       "released_year            50\n",
       "released_month           12\n",
       "released_day             31\n",
       "in_spotify_playlists    879\n",
       "in_spotify_charts        82\n",
       "streams                 949\n",
       "in_apple_playlists      234\n",
       "in_apple_charts         172\n",
       "in_deezer_playlists     348\n",
       "in_deezer_charts         34\n",
       "in_shazam_charts        198\n",
       "bpm                     124\n",
       "key                      11\n",
       "mode                      2\n",
       "danceability_%           72\n",
       "valence_%                94\n",
       "energy_%                 80\n",
       "acousticness_%           98\n",
       "instrumentalness_%       39\n",
       "liveness_%               68\n",
       "speechiness_%            48\n",
       "dtype: int64"
      ]
     },
     "execution_count": 120,
     "metadata": {},
     "output_type": "execute_result"
    }
   ],
   "source": [
    "#finding unique values\n",
    "df.nunique()"
   ]
  },
  {
   "cell_type": "code",
   "execution_count": 121,
   "id": "12927e11-b7eb-4fd0-a3f9-21373e5ba69b",
   "metadata": {},
   "outputs": [],
   "source": [
    "# Convert the \"streams\" column to numeric\n",
    "df[\"streams\"] = pd.to_numeric(df[\"streams\"], errors=\"coerce\")"
   ]
  },
  {
   "cell_type": "code",
   "execution_count": 122,
   "id": "8b5ae864-b749-4707-ae10-0ef903c0004a",
   "metadata": {},
   "outputs": [],
   "source": [
    "# Drop rows with missing values\n",
    "df = df.dropna(subset=[\"streams\"])"
   ]
  },
  {
   "cell_type": "code",
   "execution_count": 123,
   "id": "4f86560d-d597-4c63-bcea-54bf854078ca",
   "metadata": {},
   "outputs": [
    {
     "name": "stdout",
     "output_type": "stream",
     "text": [
      "Mean: 514137424.93907565\n"
     ]
    }
   ],
   "source": [
    "#mean of the \"streams\" column\n",
    "mean_value = df[\"streams\"].mean()\n",
    "# Print the mean value\n",
    "print(\"Mean:\", mean_value)"
   ]
  },
  {
   "cell_type": "code",
   "execution_count": 124,
   "id": "3acd4455-a1b5-49ca-87de-85172a64f52a",
   "metadata": {},
   "outputs": [
    {
     "name": "stdout",
     "output_type": "stream",
     "text": [
      "Median: 290530915.0\n"
     ]
    }
   ],
   "source": [
    "#median of the \"streams\" column\n",
    "median_value = df[\"streams\"].median()\n",
    "#print the median value \n",
    "print(\"Median:\",median_value)"
   ]
  },
  {
   "cell_type": "code",
   "execution_count": 125,
   "id": "81523e63-1593-4f49-8cc5-3a64cd3f47dc",
   "metadata": {},
   "outputs": [
    {
     "name": "stdout",
     "output_type": "stream",
     "text": [
      "Max: 3703895074.0\n"
     ]
    }
   ],
   "source": [
    "#maximum value in the \"streams\" column\n",
    "max_value = df[\"streams\"].max()\n",
    "#print the max value\n",
    "print(\"Max:\",max_value)"
   ]
  },
  {
   "cell_type": "code",
   "execution_count": 126,
   "id": "3a199968-a748-4f3e-b374-af6196bc511a",
   "metadata": {},
   "outputs": [
    {
     "name": "stdout",
     "output_type": "stream",
     "text": [
      "Min: 2762.0\n"
     ]
    }
   ],
   "source": [
    "#minimum value in the \"streams\" column \n",
    "min_value = df[\"streams\"].min()\n",
    "#print the min value\n",
    "print(\"Min:\",min_value)"
   ]
  },
  {
   "cell_type": "code",
   "execution_count": 127,
   "id": "8beb5b27-c0d7-43d0-b3e7-2b962e938606",
   "metadata": {},
   "outputs": [
    {
     "name": "stdout",
     "output_type": "stream",
     "text": [
      "25th percentile (Q1): 141636175.0\n",
      "50th percentile (Median): 290530915.0\n",
      "75th percentile (Q3): 673869022.0\n"
     ]
    }
   ],
   "source": [
    "#percentiles \n",
    "percentiles = np.percentile(df[\"streams\"], [25, 50, 75])\n",
    "print(\"25th percentile (Q1):\", percentiles[0])\n",
    "print(\"50th percentile (Median):\", percentiles[1])\n",
    "print(\"75th percentile (Q3):\", percentiles[2])"
   ]
  },
  {
   "cell_type": "code",
   "execution_count": 128,
   "id": "b0aea270-b1c2-495c-bac4-98044753d545",
   "metadata": {},
   "outputs": [
    {
     "name": "stdout",
     "output_type": "stream",
     "text": [
      "Q1: 141636175.0\n"
     ]
    }
   ],
   "source": [
    "#Quartiles (Q1)\n",
    "Q1 = df[\"streams\"].quantile(0.25)\n",
    "print(\"Q1:\",Q1)\n"
   ]
  },
  {
   "cell_type": "code",
   "execution_count": 129,
   "id": "5dbc22c3-0866-465a-b6d5-26addff20c80",
   "metadata": {},
   "outputs": [
    {
     "name": "stdout",
     "output_type": "stream",
     "text": [
      "Q2: 290530915.0\n"
     ]
    }
   ],
   "source": [
    "#Quartiles (Q2)\n",
    "Q2 = df[\"streams\"].quantile(0.50)\n",
    "print(\"Q2:\",Q2)"
   ]
  },
  {
   "cell_type": "code",
   "execution_count": 130,
   "id": "d597b14b-e956-4a30-87a9-659f10685fb0",
   "metadata": {},
   "outputs": [
    {
     "name": "stdout",
     "output_type": "stream",
     "text": [
      "Q3: 673869022.0\n"
     ]
    }
   ],
   "source": [
    "#Quartiles (Q3)\n",
    "Q3 = df[\"streams\"].quantile(0.75)\n",
    "print(\"Q3:\",Q3)"
   ]
  },
  {
   "cell_type": "code",
   "execution_count": 131,
   "id": "7039ac79-150b-4e12-b34a-b3a00163739c",
   "metadata": {},
   "outputs": [
    {
     "name": "stdout",
     "output_type": "stream",
     "text": [
      "Standard Deviation: 566559151.8294474\n"
     ]
    }
   ],
   "source": [
    "#standard deviation of the \"streams\" column\n",
    "standard_deviation = np.std(df['streams'])\n",
    "print(\"Standard Deviation:\",standard_deviation)"
   ]
  },
  {
   "cell_type": "code",
   "execution_count": 132,
   "id": "3b907c05-0ef4-459d-8191-66fc6379174d",
   "metadata": {},
   "outputs": [
    {
     "data": {
      "text/plain": [
       "count          952.00\n",
       "mean     514137424.94\n",
       "std      566856949.04\n",
       "min           2762.00\n",
       "25%      141636175.00\n",
       "50%      290530915.00\n",
       "75%      673869022.00\n",
       "max     3703895074.00\n",
       "Name: streams, dtype: float64"
      ]
     },
     "execution_count": 132,
     "metadata": {},
     "output_type": "execute_result"
    }
   ],
   "source": [
    "#Summary of \"Streams\" Column \n",
    "pd.options.display.float_format = '{:.2f}'.format\n",
    "df[\"streams\"].describe()"
   ]
  },
  {
   "cell_type": "code",
   "execution_count": 133,
   "id": "f26396de-8144-40bb-b1bf-3fc729782490",
   "metadata": {},
   "outputs": [
    {
     "data": {
      "image/png": "[encoded data removed]",
      "text/plain": [
       "<Figure size 800x500 with 1 Axes>"
      ]
     },
     "metadata": {},
     "output_type": "display_data"
    }
   ],
   "source": [
    "#Box and Whisker plot for the \"streams\" column\n",
    "\n",
    "fig = plt.figure(figsize =(8, 5))\n",
    "plt.boxplot(df['streams'])\n",
    "\n",
    "plt.xlabel('Streams')\n",
    "plt.ylabel('Value')\n",
    "plt.title('Box and Whisker Plot of Streams')\n",
    "\n",
    "plt.show()"
   ]
  },
  {
   "cell_type": "code",
   "execution_count": 134,
   "id": "8f030725-1031-4b26-83fd-b20715b1a63d",
   "metadata": {},
   "outputs": [
    {
     "name": "stdout",
     "output_type": "stream",
     "text": [
      "Range: 3703892312.0\n"
     ]
    }
   ],
   "source": [
    "#Calculating the range in the \"streams\" column \n",
    "streams_range = max_value - min_value\n",
    "print(\"Range:\",streams_range)"
   ]
  },
  {
   "cell_type": "code",
   "execution_count": 135,
   "id": "8dea466b-53ad-4cdc-9eb7-b3c4941e4188",
   "metadata": {},
   "outputs": [
    {
     "name": "stdout",
     "output_type": "stream",
     "text": [
      "Interquartile Range: 532232847.0\n"
     ]
    }
   ],
   "source": [
    "#Calculating the Interquartile Range \n",
    "int_quartile = Q3-Q1\n",
    "print(\"Interquartile Range:\",int_quartile)"
   ]
  },
  {
   "cell_type": "code",
   "execution_count": 136,
   "id": "0b357cd2-3994-414d-ac75-f8bfc1a2fd3b",
   "metadata": {},
   "outputs": [
    {
     "name": "stdout",
     "output_type": "stream",
     "text": [
      "Sample Variance: 321326800673671040\n"
     ]
    }
   ],
   "source": [
    "#Sample Variance of the \"streams\" column \n",
    "streams_variance = df[\"streams\"].var()\n",
    "variance_whole_number = int(streams_variance)\n",
    "print(\"Sample Variance:\",variance_whole_number)\n"
   ]
  },
  {
   "cell_type": "code",
   "execution_count": 137,
   "id": "7b09fc02-c764-4879-b77b-c102f1a5255a",
   "metadata": {},
   "outputs": [
    {
     "name": "stdout",
     "output_type": "stream",
     "text": [
      "Coefficient Variance: 110.19605349612189\n"
     ]
    }
   ],
   "source": [
    "#Coefficient Variance of \"streams\" column\n",
    "co_var = (standard_deviation/mean_value)*100\n",
    "print(\"Coefficient Variance:\",co_var)\n"
   ]
  },
  {
   "cell_type": "code",
   "execution_count": 138,
   "id": "7e77cfa7-11f8-4c1f-b3c8-48c1ba6c8c92",
   "metadata": {
    "scrolled": true
   },
   "outputs": [
    {
     "data": {
      "image/png": "[encoded data removed]",
      "text/plain": [
       "<Figure size 640x480 with 1 Axes>"
      ]
     },
     "metadata": {},
     "output_type": "display_data"
    }
   ],
   "source": [
    "#Histogram of \"streams\" column\n",
    "Histogram = df[\"streams\"]\n",
    "counts, bins, _ = plt.hist(Histogram, bins=20, density=True, color='pink', edgecolor='black', alpha=0.7)\n",
    "# Calculate bin centers\n",
    "bin_centers = (bins[:-1] + bins[1:]) / 2\n",
    "# Plot the line\n",
    "plt.plot(bin_centers, counts, color='red', linewidth=2)\n",
    "plt.xlabel(\"Streams\")\n",
    "plt.show()\n"
   ]
  },
  {
   "cell_type": "code",
   "execution_count": 139,
   "id": "eaea56dd-6fbd-432a-be10-68fb75cb02d8",
   "metadata": {},
   "outputs": [
    {
     "name": "stdout",
     "output_type": "stream",
     "text": [
      "Mean (Spotify): 5202.56512605042\n"
     ]
    }
   ],
   "source": [
    "#Squared Deviation of \"in_spotify_playlists\"\n",
    "mean_value_spotify = df[\"in_spotify_playlists\"].mean()\n",
    "print(\"Mean (Spotify):\",mean_value_spotify)"
   ]
  },
  {
   "cell_type": "code",
   "execution_count": 140,
   "id": "5c0875b0-df63-4470-8441-c118cf28b57f",
   "metadata": {},
   "outputs": [
    {
     "name": "stdout",
     "output_type": "stream",
     "text": [
      "Squared Deviation (Spotify): 0     21618455.86\n",
      "1     13902197.90\n",
      "2     14482325.93\n",
      "3      7051334.37\n",
      "4      4283099.81\n",
      "          ...    \n",
      "948   18058803.76\n",
      "949   16181030.19\n",
      "950   21432873.26\n",
      "951   15074311.96\n",
      "952   19541396.03\n",
      "Name: in_spotify_playlists, Length: 952, dtype: float64\n"
     ]
    }
   ],
   "source": [
    "squared_deviation_spotify = (df[\"in_spotify_playlists\"]-mean_value_spotify)**2\n",
    "print(\"Squared Deviation (Spotify):\",squared_deviation_spotify)"
   ]
  },
  {
   "cell_type": "code",
   "execution_count": 141,
   "id": "908219de-1dc9-496d-9af4-c758bf804f33",
   "metadata": {},
   "outputs": [
    {
     "name": "stdout",
     "output_type": "stream",
     "text": [
      "Sample Variance (Spotify): 62432132.75916102\n"
     ]
    }
   ],
   "source": [
    "#sample variance \"in_spotify_playlists\"\n",
    "sample_variance = df[\"in_spotify_playlists\"].var()\n",
    "print(\"Sample Variance (Spotify):\",sample_variance)"
   ]
  },
  {
   "cell_type": "code",
   "execution_count": 142,
   "id": "a7642449-4f5a-4092-b474-be5253129757",
   "metadata": {},
   "outputs": [
    {
     "name": "stdout",
     "output_type": "stream",
     "text": [
      "Standard Deviation (Spotify): 7901.4006833700705\n"
     ]
    }
   ],
   "source": [
    "#standard deviation \"in_spotify_playlists\"\n",
    "std_deviation = df[\"in_spotify_playlists\"].std()\n",
    "print(\"Standard Deviation (Spotify):\",std_deviation)"
   ]
  },
  {
   "cell_type": "code",
   "execution_count": 143,
   "id": "b2e64126-b698-48dd-81cf-ae164b7577ad",
   "metadata": {},
   "outputs": [
    {
     "name": "stdout",
     "output_type": "stream",
     "text": [
      "Mean (Apple): 5202.56512605042\n"
     ]
    }
   ],
   "source": [
    "#squared deviation \"in_apple_playlists\"\n",
    "mean_value_Apple = df[\"in_apple_playlists\"].mean()\n",
    "print(\"Mean (Apple):\",mean_value_spotify)\n"
   ]
  },
  {
   "cell_type": "code",
   "execution_count": 144,
   "id": "6b798874-f54b-42d3-ba44-638352b3f3ab",
   "metadata": {},
   "outputs": [
    {
     "name": "stdout",
     "output_type": "stream",
     "text": [
      "Squared Deviation (Apple): 0      618.35\n",
      "1      394.68\n",
      "2      682.95\n",
      "3     2316.82\n",
      "4      260.29\n",
      "        ...  \n",
      "948     47.15\n",
      "949   4078.94\n",
      "950   4338.41\n",
      "951   1510.61\n",
      "952   1670.08\n",
      "Name: in_apple_playlists, Length: 952, dtype: float64\n"
     ]
    }
   ],
   "source": [
    "squared_deviation_apple = (df[\"in_apple_playlists\"]-mean_value_Apple)**2\n",
    "print(\"Squared Deviation (Apple):\",squared_deviation_apple)"
   ]
  },
  {
   "cell_type": "code",
   "execution_count": 145,
   "id": "249b98c4-2240-4e9f-93a2-a4a13959009b",
   "metadata": {},
   "outputs": [
    {
     "name": "stdout",
     "output_type": "stream",
     "text": [
      "Sample Variance (Apple): 7477.163047080027\n"
     ]
    }
   ],
   "source": [
    "#sample variance \"in_apple_playlists\"\n",
    "sample_variance = df[\"in_apple_playlists\"].var()\n",
    "print(\"Sample Variance (Apple):\",sample_variance)"
   ]
  },
  {
   "cell_type": "code",
   "execution_count": 146,
   "id": "190ceffc-9aa0-4fa4-bb21-66a9ab35548d",
   "metadata": {},
   "outputs": [
    {
     "name": "stdout",
     "output_type": "stream",
     "text": [
      "Standard Deviation (Apple): 86.47059064838187\n"
     ]
    }
   ],
   "source": [
    "#standard deviation \"in_apple_playlists\"\n",
    "std_deviation = df[\"in_apple_playlists\"].std()\n",
    "print(\"Standard Deviation (Apple):\",std_deviation)"
   ]
  },
  {
   "cell_type": "code",
   "execution_count": 147,
   "id": "9cf0b291-9c73-43d5-9b7b-32bed96553d2",
   "metadata": {},
   "outputs": [
    {
     "name": "stdout",
     "output_type": "stream",
     "text": [
      "Covariance: 483909.1932397563\n"
     ]
    }
   ],
   "source": [
    "#calculating the covarinace between Spotify and Apple playlists \n",
    "co_variance = (df[\"in_spotify_playlists\"].cov(df[\"in_apple_playlists\"]))\n",
    "print(\"Covariance:\",co_variance)"
   ]
  },
  {
   "cell_type": "code",
   "execution_count": 148,
   "id": "4ebd9d1e-86ae-4fa1-98b9-62a622fc33bd",
   "metadata": {},
   "outputs": [
    {
     "name": "stdout",
     "output_type": "stream",
     "text": [
      "Correlation Coefficient: 0.7082577929461403\n"
     ]
    }
   ],
   "source": [
    "#calculating the correlation coefficient\n",
    "correlation_coefficient = (df[\"in_spotify_playlists\"].corr(df[\"in_apple_playlists\"]))\n",
    "print(\"Correlation Coefficient:\",correlation_coefficient)"
   ]
  },
  {
   "cell_type": "code",
   "execution_count": 149,
   "id": "ea95c39d-51d0-4938-b1ef-30e0c26e09a4",
   "metadata": {},
   "outputs": [
    {
     "data": {
      "image/png": "[encoded data removed]",
      "text/plain": [
       "<Figure size 640x480 with 1 Axes>"
      ]
     },
     "metadata": {},
     "output_type": "display_data"
    }
   ],
   "source": [
    "plt.scatter(df[\"in_spotify_playlists\"], df[\"in_apple_playlists\"], alpha=0.5)\n",
    "\n",
    "plt.plot(df[\"in_spotify_playlists\"], df[\"in_spotify_playlists\"] * correlation_coefficient, color='purple', linestyle='--')\n",
    "\n",
    "# Set labels and title\n",
    "plt.xlabel(\"in_spotify_playlists\")\n",
    "plt.ylabel(\"in_apple_playlists\")\n",
    "plt.title('Scatter Plot with Correlation Coefficient')\n",
    "\n",
    "# Show plot\n",
    "plt.grid(True)\n",
    "plt.show()"
   ]
  },
  {
   "cell_type": "code",
   "execution_count": 150,
   "id": "3a849a93-38ed-49ad-b004-eb0b5541081c",
   "metadata": {},
   "outputs": [
    {
     "name": "stdout",
     "output_type": "stream",
     "text": [
      "0     -53.77\n",
      "1     -43.12\n",
      "2     -44.01\n",
      "3      30.71\n",
      "4     -23.93\n",
      "       ...  \n",
      "948   -49.14\n",
      "949   -46.52\n",
      "950   -53.54\n",
      "951   -44.90\n",
      "952   -51.12\n",
      "Name: in_spotify_playlists, Length: 952, dtype: float64\n"
     ]
    }
   ],
   "source": [
    "#Calculating Z scores \"in_spotify_playlists\"\n",
    "\n",
    "z_scores= (df[\"in_spotify_playlists\"]-mean_value_spotify)/std_deviation\n",
    "print(z_scores)"
   ]
  },
  {
   "cell_type": "code",
   "execution_count": 151,
   "id": "652fc919-e689-4c4b-8a08-ba3f185de2c6",
   "metadata": {},
   "outputs": [
    {
     "name": "stdout",
     "output_type": "stream",
     "text": [
      "0     -0.29\n",
      "1     -0.23\n",
      "2      0.30\n",
      "3      0.56\n",
      "4      0.19\n",
      "       ... \n",
      "948   -0.08\n",
      "949   -0.74\n",
      "950   -0.76\n",
      "951   -0.45\n",
      "952   -0.47\n",
      "Name: in_apple_playlists, Length: 952, dtype: float64\n"
     ]
    }
   ],
   "source": [
    "#calculating z scores \"in_apple_playlists\"\n",
    "z_scores_apple = (df[\"in_apple_playlists\"]-mean_value_Apple)/std_deviation\n",
    "print(z_scores_apple)"
   ]
  },
  {
   "cell_type": "code",
   "execution_count": 152,
   "id": "ad14a652-a9aa-40ee-b9ca-f5e71f153734",
   "metadata": {},
   "outputs": [
    {
     "data": {
      "image/png": "[encoded data removed]",
      "text/plain": [
       "<Figure size 640x480 with 1 Axes>"
      ]
     },
     "metadata": {},
     "output_type": "display_data"
    }
   ],
   "source": [
    "#Pie Chart depicting \"Seven (feat.latto) appearance in spotify and apple playlists \n",
    "tered_df = df[df['track_name'] =='Seven (feat. Latto) (Explicit Ver.)']\n",
    "in_spotify_count = filtered_df['in_spotify_playlists'].sum()\n",
    "in_apple_count = filtered_df['in_apple_playlists'].sum()\n",
    "\n",
    "labels = ['In Spotify', 'In Apple Music']\n",
    "sizes = [in_spotify_count, in_apple_count]\n",
    "colors = ['pink', 'lightgreen']\n",
    "explode = (0.1, 0)  # explode the 1st slice (In Spotify)\n",
    "\n",
    "plt.pie(sizes, explode=explode, labels=labels, colors=colors, autopct='%1.1f%%', startangle=140)\n",
    "plt.title('Distribution of \"Seven (feat. Latto) (Explicit Ver.)\" between Spotify and Apple Music Playlists')\n",
    "plt.axis('equal')\n",
    "plt.show()\n",
    "\n",
    "\n",
    "\n"
   ]
  },
  {
   "cell_type": "code",
   "execution_count": 153,
   "id": "f7d1cd54-2fd5-4bf5-9664-5785fd40d977",
   "metadata": {},
   "outputs": [
    {
     "data": {
      "image/png": "[encoded data removed]",
      "text/plain": [
       "<Figure size 800x600 with 1 Axes>"
      ]
     },
     "metadata": {},
     "output_type": "display_data"
    }
   ],
   "source": [
    "#Pie chart showing the songs musical attributes \n",
    "song_name = \"WHERE SHE GOES\"\n",
    "danceability = 65\n",
    "acousticness = 14\n",
    "energy = 80\n",
    "\n",
    "# Pie chart data\n",
    "labels = ['Danceability', 'Acousticness', 'Energy']\n",
    "sizes = [danceability, acousticness, energy]\n",
    "colors = ['lightcoral', 'lightskyblue', 'lightgreen']\n",
    "explode = (0.1, 0, 0)  # explode the 1st slice (Danceability)\n",
    "\n",
    "# Plotting the pie chart\n",
    "plt.figure(figsize=(8, 6))\n",
    "plt.pie(sizes, explode=explode, labels=labels, colors=colors, autopct='%1.1f%%', shadow=True, startangle=140)\n",
    "plt.title(f'\"{song_name}\" Musical Attributes')\n",
    "plt.axis('equal')  # Equal aspect ratio ensures that pie is drawn as a circle.\n",
    "plt.show()\n"
   ]
  },
  {
   "cell_type": "code",
   "execution_count": 154,
   "id": "1c47919e-d409-4193-9f2a-bf5b9d025773",
   "metadata": {},
   "outputs": [
    {
     "name": "stdout",
     "output_type": "stream",
     "text": [
      "Conclusion: This was a challenging task for me! I struggled every step of the way and watched countless Youtube videos.I have never worked with Jupyter so it was very confusing on how to import the dataset and how to open Jupyter.The First problem I encountered was importing my dataset to jupyter (File path was unreadable). Eventually I did figure it out.I was also recieving a lot of red errors when doing the calculation. In terms of working with excel and jupyter, I would say that working in excel was much easier especially with this type of dataset.Python is a lot more complicated but would be the best option to use when working with large datasets. Excel is a lot easier to visually represent the data (graphs,charts etc) whilst in python it was a lot diffucult to visually represent thedescriptive statistics. I preffered using excel but thoroughly enjoyed working in jupyter.\n"
     ]
    }
   ],
   "source": [
    "print(\"Conclusion: This was a challenging task for me! I struggled every step of the way and watched countless Youtube videos.I have never worked with Jupyter so it was very confusing on how to import the dataset and how to open Jupyter.The First problem I encountered was importing my dataset to jupyter (File path was unreadable). Eventually I did figure it out.I was also recieving a lot of red errors when doing the calculation. In terms of working with excel and jupyter, I would say that working in excel was much easier especially with this type of dataset.Python is a lot more complicated but would be the best option to use when working with large datasets. Excel is a lot easier to visually represent the data (graphs,charts etc) whilst in python it was a lot diffucult to visually represent thedescriptive statistics. I preffered using excel but thoroughly enjoyed working in jupyter.\")\n",
    "\n"
   ]
  }
 ],
 "metadata": {
  "kernelspec": {
   "display_name": "Python 3 (ipykernel)",
   "language": "python",
   "name": "python3"
  },
  "language_info": {
   "codemirror_mode": {
    "name": "ipython",
    "version": 3
   },
   "file_extension": ".py",
   "mimetype": "text/x-python",
   "name": "python",
   "nbconvert_exporter": "python",
   "pygments_lexer": "ipython3",
   "version": "3.11.7"
  }
 },
 "nbformat": 4,
 "nbformat_minor": 5
}
